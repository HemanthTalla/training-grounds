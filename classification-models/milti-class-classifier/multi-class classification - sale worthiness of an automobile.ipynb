{
 "cells": [
  {
   "cell_type": "markdown",
   "metadata": {},
   "source": [
    "* __Code Objective__   : Build a multi-class classification for to predict sales worthiness of an autombile\n",
    "* __Author__           : Hemanth Kumar Talla\n",
    "* __Date of Creation__ : 2nd September, 2018"
   ]
  },
  {
   "cell_type": "markdown",
   "metadata": {},
   "source": [
    "### Step 1 : Import required libraries and read test and train data set. Append both for data exploration."
   ]
  },
  {
   "cell_type": "code",
   "execution_count": 1,
   "metadata": {},
   "outputs": [],
   "source": [
    "import pandas as pd\n",
    "import numpy as np\n",
    "import seaborn as sns\n",
    "import matplotlib.pyplot as plt\n",
    "%matplotlib inline\n",
    "\n",
    "from category_encoders.ordinal import OrdinalEncoder\n",
    "\n",
    "from sklearn.preprocessing import label_binarize\n",
    "from sklearn.model_selection import train_test_split\n",
    "\n",
    "from sklearn.metrics import roc_curve, auc\n",
    "from sklearn.metrics import confusion_matrix\n",
    "from sklearn.metrics import accuracy_score\n",
    "from sklearn.metrics import precision_recall_fscore_support as score\n",
    "\n",
    "from sklearn.ensemble import RandomForestClassifier"
   ]
  },
  {
   "cell_type": "code",
   "execution_count": 2,
   "metadata": {
    "scrolled": true
   },
   "outputs": [],
   "source": [
    "train = pd.read_csv('./data/train.csv')\n",
    "test = pd.read_csv('./data/test.csv')\n",
    "\n",
    "# Creating a flag for Test and Train Datasets\n",
    "train['Type'] = 'Train'\n",
    "test['Type'] = 'Test'\n",
    "\n",
    "# Combining datasets into one DF for preprocessing\n",
    "fullData = pd.concat([train, test], axis=0, sort=False)"
   ]
  },
  {
   "cell_type": "markdown",
   "metadata": {},
   "source": [
    "### Step 2: Explore and summarize the dataset"
   ]
  },
  {
   "cell_type": "code",
   "execution_count": 3,
   "metadata": {
    "scrolled": false
   },
   "outputs": [
    {
     "name": "stdout",
     "output_type": "stream",
     "text": [
      "\n",
      " fullData.shape:\n",
      "\n",
      " (1728, 8)\n",
      "***************************************************************************************************\n",
      "\n",
      " fullData.info():\n",
      "<class 'pandas.core.frame.DataFrame'>\n",
      "Int64Index: 1728 entries, 0 to 345\n",
      "Data columns (total 8 columns):\n",
      "purchasing_cost    1728 non-null object\n",
      "repair_cost        1728 non-null object\n",
      "windows            1728 non-null object\n",
      "people             1728 non-null object\n",
      "space              1728 non-null object\n",
      "safety             1728 non-null object\n",
      "label              1382 non-null object\n",
      "Type               1728 non-null object\n",
      "dtypes: object(8)\n",
      "memory usage: 121.5+ KB\n",
      "\n",
      " None\n",
      "***************************************************************************************************\n",
      "\n",
      " fullData.head(5):\n",
      "\n",
      "   purchasing_cost repair_cost windows people   space safety         label  \\\n",
      "0            high   very_high   5more   more  medium    med  unacceptable   \n",
      "1       very_high      medium       4   more     big    low  unacceptable   \n",
      "2          medium      medium   5more      4  medium    low  unacceptable   \n",
      "3            high        high       2   more  medium   high    acceptable   \n",
      "4            high   very_high   5more      2     big   high  unacceptable   \n",
      "\n",
      "    Type  \n",
      "0  Train  \n",
      "1  Train  \n",
      "2  Train  \n",
      "3  Train  \n",
      "4  Train  \n",
      "***************************************************************************************************\n",
      "\n",
      " fullData.describe():\n",
      "\n",
      "        purchasing_cost repair_cost windows people   space safety  \\\n",
      "count             1728        1728    1728   1728    1728   1728   \n",
      "unique               4           4       4      3       3      4   \n",
      "top                low        high       4      4  medium    low   \n",
      "freq               439         444     440    588     582    581   \n",
      "\n",
      "               label   Type  \n",
      "count           1382   1728  \n",
      "unique             4      2  \n",
      "top     unacceptable  Train  \n",
      "freq             974   1382  \n",
      "***************************************************************************************************\n"
     ]
    }
   ],
   "source": [
    "print('\\n', 'fullData.shape:')\n",
    "print('\\n', fullData.shape)\n",
    "print('*'*99)\n",
    "\n",
    "print('\\n', 'fullData.info():')\n",
    "print('\\n', fullData.info())\n",
    "print('*'*99)\n",
    "\n",
    "print('\\n', 'fullData.head(5):')\n",
    "print('\\n', fullData.head(5))\n",
    "print('*'*99)\n",
    "\n",
    "print('\\n', 'fullData.describe():')\n",
    "print('\\n', fullData.describe())\n",
    "print('*'*99)"
   ]
  },
  {
   "cell_type": "code",
   "execution_count": 4,
   "metadata": {},
   "outputs": [
    {
     "name": "stdout",
     "output_type": "stream",
     "text": [
      "\n",
      " fullData.label.value_counts():\n",
      "\n",
      " unacceptable    974\n",
      "acceptable      298\n",
      "very_good        56\n",
      "good             54\n",
      "Name: label, dtype: int64\n"
     ]
    }
   ],
   "source": [
    "# Number of records per each label\n",
    "print('\\n', 'fullData.label.value_counts():')\n",
    "print('\\n', fullData.label.value_counts())"
   ]
  },
  {
   "cell_type": "markdown",
   "metadata": {},
   "source": [
    "##### The class distribution is skewed with most of the data falling in 2('unacceptable', 'acceptable') of the 4 classes. This would naturally result in a classifier with better ability of less acceptaable automobiles more accurately than good ones."
   ]
  },
  {
   "cell_type": "code",
   "execution_count": 5,
   "metadata": {
    "scrolled": true
   },
   "outputs": [
    {
     "name": "stdout",
     "output_type": "stream",
     "text": [
      "\n",
      " low          439\n",
      "medium       437\n",
      "very_high    436\n",
      "high         416\n",
      "Name: purchasing_cost, dtype: int64\n",
      "\n",
      " high         444\n",
      "medium       434\n",
      "low          427\n",
      "very_high    423\n",
      "Name: repair_cost, dtype: int64\n",
      "\n",
      " 4        440\n",
      "2        435\n",
      "5more    433\n",
      "3        420\n",
      "Name: windows, dtype: int64\n",
      "\n",
      " 4       588\n",
      "2       584\n",
      "more    556\n",
      "Name: people, dtype: int64\n",
      "\n",
      " medium    582\n",
      "small     574\n",
      "big       572\n",
      "Name: space, dtype: int64\n",
      "\n",
      " low       581\n",
      "high      568\n",
      "med       457\n",
      "medium    122\n",
      "Name: safety, dtype: int64\n",
      "\n",
      " unacceptable    974\n",
      "acceptable      298\n",
      "very_good        56\n",
      "good             54\n",
      "Name: label, dtype: int64\n",
      "\n",
      " Train    1382\n",
      "Test      346\n",
      "Name: Type, dtype: int64\n"
     ]
    }
   ],
   "source": [
    "# Frequency of records for each value of each feature\n",
    "for col in fullData.columns:\n",
    "    print('\\n', fullData[col].value_counts())"
   ]
  },
  {
   "cell_type": "markdown",
   "metadata": {},
   "source": [
    "*As far as features are concerned, the distribution of levels is even.*"
   ]
  },
  {
   "cell_type": "markdown",
   "metadata": {},
   "source": [
    "### Step 3: Identify the a) ID variables b) Target variables c) Categorical Variables d) Numerical Variables e) Other Variables and list out the considered features"
   ]
  },
  {
   "cell_type": "code",
   "execution_count": 6,
   "metadata": {},
   "outputs": [
    {
     "name": "stdout",
     "output_type": "stream",
     "text": [
      "Features:\n",
      " ['people', 'safety', 'windows', 'repair_cost', 'space', 'purchasing_cost']\n"
     ]
    }
   ],
   "source": [
    "id_col = []\n",
    "target_col = ['label']\n",
    "num_cols = []\n",
    "other_cols = ['Type']\n",
    "cat_cols = list(set(fullData.columns) - set(id_col) - set(target_col) - set(num_cols) - set(other_cols))\n",
    "\n",
    "features = list(set(list(fullData.columns)) - set(id_col) - set(target_col) - set(other_cols))\n",
    "\n",
    "print(\"Features:\\n\", features)"
   ]
  },
  {
   "cell_type": "markdown",
   "metadata": {},
   "source": [
    "*Data consists of only categorical variables, all being ordinal type. We'll look for any redundancy in features after label encoding and modify feature list accordingly*"
   ]
  },
  {
   "cell_type": "markdown",
   "metadata": {},
   "source": [
    "### Step 4 : Identify the variables with missing values and create a flag for those"
   ]
  },
  {
   "cell_type": "code",
   "execution_count": 7,
   "metadata": {
    "scrolled": true
   },
   "outputs": [
    {
     "data": {
      "text/plain": [
       "purchasing_cost    False\n",
       "repair_cost        False\n",
       "windows            False\n",
       "people             False\n",
       "space              False\n",
       "safety             False\n",
       "label               True\n",
       "Type               False\n",
       "dtype: bool"
      ]
     },
     "execution_count": 7,
     "metadata": {},
     "output_type": "execute_result"
    }
   ],
   "source": [
    "# List columns with nulls\n",
    "fullData.isnull().any()"
   ]
  },
  {
   "cell_type": "markdown",
   "metadata": {},
   "source": [
    "Data has no missing values amongst the features, including train and test data. We can skip the missing value treatment."
   ]
  },
  {
   "cell_type": "markdown",
   "metadata": {},
   "source": [
    "### Step 5 : Create label encoders for categorical variables"
   ]
  },
  {
   "cell_type": "code",
   "execution_count": 8,
   "metadata": {},
   "outputs": [],
   "source": [
    "### providing custom label mapping, since the categorical variables are ordinal.\n",
    "### provided data has no missing values, however, Null vlues are handled in the replace_mpap for exceptions.\n",
    "replace_map = [{'col': 'purchasing_cost', 'mapping': [(None, -1), ('low', 0), ('medium', 1), ('high', 2), ('very_high', 3)]},\n",
    "               {'col': 'repair_cost', 'mapping': [(None, -1), ('low', 0), ('medium', 1), ('high', 2), ('very_high', 3)]},\n",
    "               {'col': 'windows', 'mapping': [(None, -1), ('2', 2), ('3', 3), ('4', 4), ('5more', 9)]},\n",
    "               {'col': 'people', 'mapping': [(None, -1), ('2', 2), ('4', 4), ('more', 9)]},\n",
    "               {'col': 'space', 'mapping': [(None, -1), ('small', 0), ('medium', 1), ('big', 2)]},\n",
    "               {'col': 'safety', 'mapping': [(None, -1), ('low', 0), ('med', 1), ('medium', 1), ('high', 2)]},\n",
    "               {'col': 'label', 'mapping': [(None, -1), ('unacceptable', 0), ('acceptable', 1), ('very_good', 2), ('good', 3)]}]\n",
    "\n",
    "# Fit OrdinalEncoder to data, then transform it.\n",
    "encoder = OrdinalEncoder(verbose=0, mapping=replace_map, handle_unknown='ignore')\n",
    "fullData_encoded = encoder.fit_transform(fullData)"
   ]
  },
  {
   "cell_type": "markdown",
   "metadata": {},
   "source": [
    "##### Correlation matrix heatmap"
   ]
  },
  {
   "cell_type": "code",
   "execution_count": 9,
   "metadata": {},
   "outputs": [
    {
     "data": {
      "text/plain": [
       "<matplotlib.axes._subplots.AxesSubplot at 0x7f3b17f06c18>"
      ]
     },
     "execution_count": 9,
     "metadata": {},
     "output_type": "execute_result"
    },
    {
     "data": {
      "image/png": "[encoded data removed]",
      "text/plain": [
       "<Figure size 432x288 with 2 Axes>"
      ]
     },
     "metadata": {},
     "output_type": "display_data"
    }
   ],
   "source": [
    "corr = fullData_encoded[fullData_encoded.columns.difference(['label'])].corr()\n",
    "# plot the heatmap\n",
    "sns.heatmap(corr, \n",
    "        xticklabels=corr.columns,\n",
    "        yticklabels=corr.columns)"
   ]
  },
  {
   "cell_type": "markdown",
   "metadata": {},
   "source": [
    "We can notice ther is zero correlation between any two features. "
   ]
  },
  {
   "cell_type": "markdown",
   "metadata": {},
   "source": [
    "### Step 6: split the data set to train & test, further split the train data set to train and validate"
   ]
  },
  {
   "cell_type": "code",
   "execution_count": 10,
   "metadata": {},
   "outputs": [
    {
     "name": "stdout",
     "output_type": "stream",
     "text": [
      "(1382, 8)\n",
      "(1105, 8)\n",
      "(277, 8)\n",
      "(346, 8)\n"
     ]
    }
   ],
   "source": [
    "# Separating data back into train and test\n",
    "trainVal = fullData_encoded[fullData_encoded['Type']=='Train'].copy()\n",
    "test = fullData_encoded[fullData_encoded['Type']=='Test'].copy()\n",
    "\n",
    "# Splitting train data further into train and validate\n",
    "\n",
    "train, validate = train_test_split(trainVal, test_size=0.2, random_state=3)\n",
    "\n",
    "print(trainVal.shape)\n",
    "print(train.shape)\n",
    "print(validate.shape)\n",
    "print(test.shape)"
   ]
  },
  {
   "cell_type": "code",
   "execution_count": 11,
   "metadata": {},
   "outputs": [],
   "source": [
    "x_train = train[features].values\n",
    "y_train = train['label'].values\n",
    "x_val = validate[features].values\n",
    "y_val = validate['label'].values\n",
    "x_test = test[features].values"
   ]
  },
  {
   "cell_type": "code",
   "execution_count": 12,
   "metadata": {},
   "outputs": [
    {
     "name": "stdout",
     "output_type": "stream",
     "text": [
      "(1105, 6)\n",
      "(1105,)\n",
      "(277, 6)\n",
      "(277,)\n",
      "(346, 6)\n"
     ]
    }
   ],
   "source": [
    "print(x_train.shape)\n",
    "print(y_train.shape)\n",
    "print(x_val.shape)\n",
    "print(y_val.shape)\n",
    "print(x_test.shape)"
   ]
  },
  {
   "cell_type": "markdown",
   "metadata": {},
   "source": [
    "### Step 7 : Load model and fit the data"
   ]
  },
  {
   "cell_type": "code",
   "execution_count": 13,
   "metadata": {
    "scrolled": false
   },
   "outputs": [
    {
     "data": {
      "text/plain": [
       "RandomForestClassifier(bootstrap=True, class_weight=None, criterion='gini',\n",
       "            max_depth=None, max_features='auto', max_leaf_nodes=None,\n",
       "            min_impurity_decrease=0.0, min_impurity_split=None,\n",
       "            min_samples_leaf=1, min_samples_split=2,\n",
       "            min_weight_fraction_leaf=0.0, n_estimators=1000, n_jobs=1,\n",
       "            oob_score=False, random_state=4, verbose=0, warm_start=False)"
      ]
     },
     "execution_count": 13,
     "metadata": {},
     "output_type": "execute_result"
    }
   ],
   "source": [
    "rf = RandomForestClassifier(n_estimators=1000, random_state=4)\n",
    "rf.fit(x_train, y_train)"
   ]
  },
  {
   "cell_type": "markdown",
   "metadata": {},
   "source": [
    "### Step 8 : Evaluate model performance and make predictions"
   ]
  },
  {
   "cell_type": "code",
   "execution_count": 14,
   "metadata": {},
   "outputs": [],
   "source": [
    "y_score = rf.predict(x_val)"
   ]
  },
  {
   "cell_type": "markdown",
   "metadata": {},
   "source": [
    "**Accuracy score**"
   ]
  },
  {
   "cell_type": "code",
   "execution_count": 15,
   "metadata": {},
   "outputs": [
    {
     "data": {
      "text/plain": [
       "0.9783393501805054"
      ]
     },
     "execution_count": 15,
     "metadata": {},
     "output_type": "execute_result"
    }
   ],
   "source": [
    "accuracy_score(y_val, y_score)"
   ]
  },
  {
   "cell_type": "markdown",
   "metadata": {},
   "source": [
    "##### Model accuracy is 98% on validation data. Since the class distribution of data is unbalanced, accuracy is a poor metric.  High score could be a result of just predicting the most frequent class. "
   ]
  },
  {
   "cell_type": "markdown",
   "metadata": {},
   "source": [
    " "
   ]
  },
  {
   "cell_type": "markdown",
   "metadata": {},
   "source": [
    "**Confusion Matrix**"
   ]
  },
  {
   "cell_type": "code",
   "execution_count": 16,
   "metadata": {},
   "outputs": [
    {
     "data": {
      "text/plain": [
       "array([[198,   2,   0,   0],\n",
       "       [  2,  50,   0,   1],\n",
       "       [  0,   0,  12,   0],\n",
       "       [  0,   1,   0,  11]])"
      ]
     },
     "execution_count": 16,
     "metadata": {},
     "output_type": "execute_result"
    }
   ],
   "source": [
    "# Confusion matrix across label values\n",
    "cm = confusion_matrix(y_val, y_score, labels=[0, 1, 2, 3])\n",
    "cm"
   ]
  },
  {
   "cell_type": "markdown",
   "metadata": {},
   "source": [
    "*Above confusion matrix shows model performing well for all the classes, despite of heavy data imbalance. The same effect can be seen in precision, recall and F1 score measured label-wise which can be calculated from the consuin matrix. This could be the result of definitive features.*"
   ]
  },
  {
   "cell_type": "code",
   "execution_count": 17,
   "metadata": {},
   "outputs": [
    {
     "name": "stdout",
     "output_type": "stream",
     "text": [
      "precision: [0.99       0.94339623 1.         0.91666667]\n",
      "recall: [0.99       0.94339623 1.         0.91666667]\n",
      "fscore: [0.99       0.94339623 1.         0.91666667]\n",
      "support: [200  53  12  12]\n"
     ]
    }
   ],
   "source": [
    "precision, recall, fscore, support = score(y_val, y_score, labels=[0, 1, 2, 3])\n",
    "\n",
    "print('precision: {}'.format(precision))\n",
    "print('recall: {}'.format(recall))\n",
    "print('fscore: {}'.format(fscore))\n",
    "print('support: {}'.format(support))"
   ]
  },
  {
   "cell_type": "markdown",
   "metadata": {},
   "source": [
    " "
   ]
  },
  {
   "cell_type": "markdown",
   "metadata": {},
   "source": [
    "**Multi-class ROC-AUC**"
   ]
  },
  {
   "cell_type": "markdown",
   "metadata": {},
   "source": [
    "ROC curves are typically used in binary classification to study the output of a classifier. In order to extend ROC curve and ROC area to multi-class or multi-label classification, it is necessary to binarize the output. \n",
    "\n",
    "One ROC curve each can be drawn per label, but we can also draw a ROC curve by considering each element of the label indicator matrix as a binary prediction (micro-averaging). Here, we aggregate the contributions of all classes to compute the average metric\n",
    "\n",
    "Another evaluation measure for multi-class classification is macro-averaging, which gives equal weight to the classification of each label. Macro-average will compute the metric independently for each class and then take the average"
   ]
  },
  {
   "cell_type": "code",
   "execution_count": 18,
   "metadata": {},
   "outputs": [],
   "source": [
    "# Compute ROC curve and ROC area for each class\n",
    "fpr = dict()\n",
    "tpr = dict()\n",
    "roc_auc = dict()\n",
    "\n",
    "labels = fullData.label.dropna().unique()\n",
    "n_classes = len(labels)\n",
    "\n",
    "y_val_bi = label_binarize(y_val, classes = [0, 1, 2, 3])\n",
    "y_score_bi = label_binarize(y_score, classes = [0, 1, 2, 3])\n",
    "\n",
    "# ROC for each class\n",
    "\n",
    "for i in range(n_classes):\n",
    "    fpr[i], tpr[i], _ = roc_curve(y_val_bi[:, i], y_score_bi[:, i])\n",
    "    roc_auc[i] = auc(fpr[i], tpr[i])\n",
    "    \n",
    "# Compute micro-average ROC curve and ROC area\n",
    "# \n",
    "fpr[\"micro\"], tpr[\"micro\"], _ = roc_curve(y_val_bi.ravel(), y_score_bi.ravel())\n",
    "roc_auc[\"micro\"] = auc(fpr[\"micro\"], tpr[\"micro\"])"
   ]
  },
  {
   "cell_type": "code",
   "execution_count": 19,
   "metadata": {
    "scrolled": true
   },
   "outputs": [
    {
     "data": {
      "image/png": "[encoded data removed]",
      "text/plain": [
       "<Figure size 720x720 with 1 Axes>"
      ]
     },
     "metadata": {},
     "output_type": "display_data"
    }
   ],
   "source": [
    "# Compute macro-average ROC curve and ROC area\n",
    "\n",
    "# First aggregate all false positive rates\n",
    "all_fpr = np.unique(np.concatenate([fpr[i] for i in range(n_classes)]))\n",
    "\n",
    "# Then interpolate all ROC curves at this points\n",
    "mean_tpr = np.zeros_like(all_fpr)\n",
    "for i in range(n_classes):\n",
    "    mean_tpr += np.interp(all_fpr, fpr[i], tpr[i])\n",
    "\n",
    "# Finally average it and compute AUC\n",
    "mean_tpr /= n_classes\n",
    "\n",
    "fpr[\"macro\"] = all_fpr\n",
    "tpr[\"macro\"] = mean_tpr\n",
    "roc_auc[\"macro\"] = auc(fpr[\"macro\"], tpr[\"macro\"])\n",
    "\n",
    "# Plot all ROC curves\n",
    "plt.figure(figsize=(10,10))\n",
    "plt.plot(fpr[\"micro\"], tpr[\"micro\"],\n",
    "         label='micro-average ROC curve (area = {0:0.2f})'\n",
    "               ''.format(roc_auc[\"micro\"]),\n",
    "         color='deeppink', linestyle=':', linewidth=4)\n",
    "\n",
    "plt.plot(fpr[\"macro\"], tpr[\"macro\"],\n",
    "         label='macro-average ROC curve (area = {0:0.2f})'\n",
    "               ''.format(roc_auc[\"macro\"]),\n",
    "         color='navy', linestyle=':', linewidth=4)\n",
    "\n",
    "lw = 2\n",
    "colors = ['green', 'orange', 'blue', 'teal']\n",
    "\n",
    "for i, color in zip(range(n_classes), colors):\n",
    "    plt.plot(fpr[i], tpr[i], color=color, lw=lw,\n",
    "             label='ROC curve of class {0} (area = {1:0.2f})'\n",
    "             ''.format(i, roc_auc[i]))\n",
    "\n",
    "plt.plot([0, 1], [0, 1], 'k--', lw=lw)\n",
    "plt.xlim([0.0, 1.0])\n",
    "plt.ylim([0.0, 1.05])\n",
    "plt.xlabel('False Positive Rate')\n",
    "plt.ylabel('True Positive Rate')\n",
    "plt.title('Receiver operating characteristic for multi-class')\n",
    "plt.legend(loc=\"lower right\")\n",
    "plt.show()"
   ]
  },
  {
   "cell_type": "markdown",
   "metadata": {},
   "source": [
    "### Conclusion"
   ]
  },
  {
   "cell_type": "markdown",
   "metadata": {},
   "source": [
    "##### Even with a highly class-imbalanced data and as few as 1100 records , the Random Forest model we built has resulted in a good model with good precision, recall scores. This could be attributed to decisive features, which is difficult in a real-life scenario. "
   ]
  },
  {
   "cell_type": "markdown",
   "metadata": {},
   "source": [
    " "
   ]
  },
  {
   "cell_type": "markdown",
   "metadata": {},
   "source": [
    "### Test Results"
   ]
  },
  {
   "cell_type": "code",
   "execution_count": 20,
   "metadata": {},
   "outputs": [],
   "source": [
    "predictions = rf.predict(x_test).astype(int)"
   ]
  },
  {
   "cell_type": "code",
   "execution_count": 21,
   "metadata": {
    "scrolled": false
   },
   "outputs": [
    {
     "data": {
      "text/plain": [
       "array([0, 0, 0, 0, 0, 2, 0, 0, 0, 1, 0, 0, 1, 0, 0, 0, 1, 0, 0, 0, 1, 0,\n",
       "       0, 0, 0, 0, 0, 0, 2, 1, 0, 3, 0, 2, 1, 0, 3, 0, 0, 0, 0, 0, 0, 0,\n",
       "       3, 0, 0, 1, 0, 0, 0, 0, 1, 0, 0, 0, 0, 0, 1, 0, 0, 0, 1, 0, 0, 1,\n",
       "       0, 1, 0, 1, 0, 0, 1, 1, 0, 0, 1, 0, 1, 0, 0, 1, 1, 0, 0, 0, 1, 0,\n",
       "       0, 0, 0, 0, 0, 0, 0, 3, 0, 0, 0, 0, 0, 0, 1, 0, 0, 0, 0, 1, 0, 0,\n",
       "       1, 1, 3, 0, 0, 0, 1, 1, 0, 2, 0, 0, 0, 0, 0, 2, 0, 0, 0, 0, 0, 1,\n",
       "       0, 0, 0, 0, 0, 0, 0, 1, 2, 0, 0, 1, 1, 0, 3, 2, 0, 3, 0, 0, 1, 0,\n",
       "       1, 0, 1, 2, 0, 0, 0, 1, 0, 0, 0, 0, 0, 3, 0, 0, 1, 0, 0, 0, 1, 1,\n",
       "       1, 0, 1, 0, 0, 1, 0, 1, 0, 1, 0, 0, 0, 0, 0, 3, 0, 0, 0, 0, 0, 0,\n",
       "       0, 0, 0, 0, 0, 0, 0, 0, 3, 0, 0, 0, 0, 3, 2, 0, 1, 0, 0, 1, 0, 1,\n",
       "       0, 0, 0, 0, 0, 0, 0, 0, 1, 0, 1, 0, 3, 0, 0, 3, 0, 0, 0, 1, 0, 0,\n",
       "       0, 0, 1, 0, 0, 1, 0, 0, 0, 1, 0, 0, 0, 0, 0, 0, 0, 1, 2, 0, 3, 0,\n",
       "       1, 0, 1, 0, 0, 0, 0, 1, 0, 0, 0, 1, 0, 0, 2, 0, 1, 0, 0, 0, 1, 1,\n",
       "       1, 1, 0, 0, 0, 0, 2, 1, 1, 1, 0, 1, 0, 1, 1, 0, 0, 0, 0, 0, 1, 0,\n",
       "       2, 0, 0, 0, 0, 0, 1, 0, 0, 0, 0, 0, 0, 0, 0, 0, 0, 0, 1, 1, 0, 0,\n",
       "       1, 0, 1, 0, 0, 0, 0, 0, 2, 1, 1, 1, 1, 0, 1, 0])"
      ]
     },
     "execution_count": 21,
     "metadata": {},
     "output_type": "execute_result"
    }
   ],
   "source": [
    "predictions"
   ]
  },
  {
   "cell_type": "code",
   "execution_count": 22,
   "metadata": {},
   "outputs": [],
   "source": [
    "output = np.vstack((np.arange(1, 347), predictions)).T"
   ]
  },
  {
   "cell_type": "code",
   "execution_count": 23,
   "metadata": {},
   "outputs": [],
   "source": [
    "np.savetxt(\"submission.csv\", output, fmt='%d', delimiter=',', header=\"id, label\")"
   ]
  }
 ],
 "metadata": {
  "kernelspec": {
   "display_name": "Python 3",
   "language": "python",
   "name": "python3"
  },
  "language_info": {
   "codemirror_mode": {
    "name": "ipython",
    "version": 3
   },
   "file_extension": ".py",
   "mimetype": "text/x-python",
   "name": "python",
   "nbconvert_exporter": "python",
   "pygments_lexer": "ipython3",
   "version": "3.6.5"
  }
 },
 "nbformat": 4,
 "nbformat_minor": 2
}
